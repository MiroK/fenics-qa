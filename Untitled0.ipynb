{
 "metadata": {
  "name": "",
  "signature": "sha256:0a7dad5005795914d0aeab735f96f532066594d9928781d171e1a69034bcd74d"
 },
 "nbformat": 3,
 "nbformat_minor": 0,
 "worksheets": [
  {
   "cells": [
    {
     "cell_type": "code",
     "collapsed": false,
     "input": [
      "from dolfin import Expression\n",
      "import string\n",
      "UPPER = string.ascii_uppercase\n",
      "lower = string.ascii_lowercase\n",
      "\n",
      "for l, L in zip(lower, UPPER):\n",
      "    try:\n",
      "        foo = '''\"{foo}*x[0]\", {foo}=1'''.format(foo=l)\n",
      "        bar = 'Expression({bar})'.format(bar=foo)\n",
      "        print bar,\n",
      "        exec(bar)\n",
      "    except:\n",
      "        l_status = 'Fail'\n",
      "    else:\n",
      "        l_status = 'Pass'\n",
      "        \n",
      "    try:\n",
      "        foo = '''\"{foo}*x[0]\", {foo}=1'''.format(foo=L)\n",
      "        bar = 'Expression({bar})'.format(bar=foo)\n",
      "        print bar\n",
      "        exec(bar)\n",
      "    except:\n",
      "        L_status = 'Fail'\n",
      "    else:\n",
      "        L_status = 'Pass'\n",
      "        \n",
      "    print l, l_status, L, L_status"
     ],
     "language": "python",
     "metadata": {},
     "outputs": [
      {
       "output_type": "stream",
       "stream": "stdout",
       "text": [
        "Expression(\"a*x[0]\", a=1) Expression(\"A*x[0]\", A=1)\n"
       ]
      },
      {
       "output_type": "stream",
       "stream": "stdout",
       "text": [
        "a Pass A Pass\n",
        "Expression(\"b*x[0]\", b=1)"
       ]
      },
      {
       "output_type": "stream",
       "stream": "stdout",
       "text": [
        " Expression(\"B*x[0]\", B=1)\n"
       ]
      },
      {
       "output_type": "stream",
       "stream": "stdout",
       "text": [
        "b Pass B Pass\n",
        "Expression(\"c*x[0]\", c=1)"
       ]
      },
      {
       "output_type": "stream",
       "stream": "stdout",
       "text": [
        " Expression(\"C*x[0]\", C=1)\n"
       ]
      },
      {
       "output_type": "stream",
       "stream": "stdout",
       "text": [
        "c Pass C Pass\n",
        "Expression(\"d*x[0]\", d=1)"
       ]
      },
      {
       "output_type": "stream",
       "stream": "stdout",
       "text": [
        " Expression(\"D*x[0]\", D=1)\n"
       ]
      },
      {
       "output_type": "stream",
       "stream": "stdout",
       "text": [
        "d Pass D Pass\n",
        "Expression(\"e*x[0]\", e=1)"
       ]
      },
      {
       "output_type": "stream",
       "stream": "stderr",
       "text": [
        "In instant.recompile: The module did not compile with command 'make VERBOSE=1', see '/home/miro3/.instant/error/dolfin_compile_code_eb086dde431fbe6b86b1972d4c2234e7/compile.log'\n"
       ]
      },
      {
       "output_type": "stream",
       "stream": "stderr",
       "text": [
        "ERROR:instant:In instant.recompile: The module did not compile with command 'make VERBOSE=1', see '/home/miro3/.instant/error/dolfin_compile_code_eb086dde431fbe6b86b1972d4c2234e7/compile.log'\n"
       ]
      },
      {
       "output_type": "stream",
       "stream": "stdout",
       "text": [
        " Expression(\"E*x[0]\", E=1)\n"
       ]
      },
      {
       "output_type": "stream",
       "stream": "stdout",
       "text": [
        "e Fail E Pass\n",
        "Expression(\"f*x[0]\", f=1)"
       ]
      },
      {
       "output_type": "stream",
       "stream": "stdout",
       "text": [
        " Expression(\"F*x[0]\", F=1)\n"
       ]
      },
      {
       "output_type": "stream",
       "stream": "stdout",
       "text": [
        "f Pass F Pass\n",
        "Expression(\"g*x[0]\", g=1)"
       ]
      },
      {
       "output_type": "stream",
       "stream": "stdout",
       "text": [
        " Expression(\"G*x[0]\", G=1)\n"
       ]
      },
      {
       "output_type": "stream",
       "stream": "stdout",
       "text": [
        "g Pass G Pass\n",
        "Expression(\"h*x[0]\", h=1)"
       ]
      },
      {
       "output_type": "stream",
       "stream": "stdout",
       "text": [
        " Expression(\"H*x[0]\", H=1)\n"
       ]
      },
      {
       "output_type": "stream",
       "stream": "stdout",
       "text": [
        "h Pass H Pass\n",
        "Expression(\"i*x[0]\", i=1)"
       ]
      },
      {
       "output_type": "stream",
       "stream": "stdout",
       "text": [
        " Expression(\"I*x[0]\", I=1)\n"
       ]
      },
      {
       "output_type": "stream",
       "stream": "stdout",
       "text": [
        "i Pass I Pass\n",
        "Expression(\"j*x[0]\", j=1)"
       ]
      },
      {
       "output_type": "stream",
       "stream": "stdout",
       "text": [
        " Expression(\"J*x[0]\", J=1)\n"
       ]
      },
      {
       "output_type": "stream",
       "stream": "stdout",
       "text": [
        "j Pass J Pass\n",
        "Expression(\"k*x[0]\", k=1)"
       ]
      },
      {
       "output_type": "stream",
       "stream": "stdout",
       "text": [
        " Expression(\"K*x[0]\", K=1)\n"
       ]
      },
      {
       "output_type": "stream",
       "stream": "stdout",
       "text": [
        "k Pass K Pass\n",
        "Expression(\"l*x[0]\", l=1)"
       ]
      },
      {
       "output_type": "stream",
       "stream": "stdout",
       "text": [
        " Expression(\"L*x[0]\", L=1)\n"
       ]
      },
      {
       "output_type": "stream",
       "stream": "stdout",
       "text": [
        "l Pass L Pass\n",
        "Expression(\"m*x[0]\", m=1)"
       ]
      },
      {
       "output_type": "stream",
       "stream": "stdout",
       "text": [
        " Expression(\"M*x[0]\", M=1)\n"
       ]
      },
      {
       "output_type": "stream",
       "stream": "stdout",
       "text": [
        "m Pass M Pass\n",
        "Expression(\"n*x[0]\", n=1)"
       ]
      },
      {
       "output_type": "stream",
       "stream": "stdout",
       "text": [
        " Expression(\"N*x[0]\", N=1)\n"
       ]
      },
      {
       "output_type": "stream",
       "stream": "stdout",
       "text": [
        "n Pass N Pass\n",
        "Expression(\"o*x[0]\", o=1)"
       ]
      },
      {
       "output_type": "stream",
       "stream": "stdout",
       "text": [
        " Expression(\"O*x[0]\", O=1)\n"
       ]
      },
      {
       "output_type": "stream",
       "stream": "stdout",
       "text": [
        "o Pass O Pass\n",
        "Expression(\"p*x[0]\", p=1)"
       ]
      },
      {
       "output_type": "stream",
       "stream": "stdout",
       "text": [
        " Expression(\"P*x[0]\", P=1)\n"
       ]
      },
      {
       "output_type": "stream",
       "stream": "stdout",
       "text": [
        "p Pass P Pass\n",
        "Expression(\"q*x[0]\", q=1)"
       ]
      },
      {
       "output_type": "stream",
       "stream": "stdout",
       "text": [
        " Expression(\"Q*x[0]\", Q=1)\n"
       ]
      },
      {
       "output_type": "stream",
       "stream": "stdout",
       "text": [
        "q Pass Q Pass\n",
        "Expression(\"r*x[0]\", r=1) Expression(\"R*x[0]\", R=1)\n"
       ]
      },
      {
       "output_type": "stream",
       "stream": "stdout",
       "text": [
        "r Pass R Pass\n",
        "Expression(\"s*x[0]\", s=1) Expression(\"S*x[0]\", S=1)\n",
        "s Pass S Pass\n",
        "Expression(\"t*x[0]\", t=1)"
       ]
      },
      {
       "output_type": "stream",
       "stream": "stdout",
       "text": [
        " Expression(\"T*x[0]\", T=1)\n",
        "t Pass T Fail\n",
        "Expression(\"u*x[0]\", u=1)"
       ]
      },
      {
       "output_type": "stream",
       "stream": "stdout",
       "text": [
        " Expression(\"U*x[0]\", U=1)\n"
       ]
      },
      {
       "output_type": "stream",
       "stream": "stdout",
       "text": [
        "u Pass U Pass\n",
        "Expression(\"v*x[0]\", v=1)"
       ]
      },
      {
       "output_type": "stream",
       "stream": "stdout",
       "text": [
        " Expression(\"V*x[0]\", V=1)\n",
        "v Pass V Pass\n",
        "Expression(\"w*x[0]\", w=1)"
       ]
      },
      {
       "output_type": "stream",
       "stream": "stdout",
       "text": [
        " Expression(\"W*x[0]\", W=1)\n"
       ]
      },
      {
       "output_type": "stream",
       "stream": "stdout",
       "text": [
        "w Pass W Pass\n",
        "Expression(\"x*x[0]\", x=1)"
       ]
      },
      {
       "output_type": "stream",
       "stream": "stderr",
       "text": [
        "In instant.recompile: The module did not compile with command 'make VERBOSE=1', see '/home/miro3/.instant/error/dolfin_compile_code_c6768ef35577168ff2ad328976de3592/compile.log'\n"
       ]
      },
      {
       "output_type": "stream",
       "stream": "stderr",
       "text": [
        "ERROR:instant:In instant.recompile: The module did not compile with command 'make VERBOSE=1', see '/home/miro3/.instant/error/dolfin_compile_code_c6768ef35577168ff2ad328976de3592/compile.log'\n"
       ]
      },
      {
       "output_type": "stream",
       "stream": "stdout",
       "text": [
        " Expression(\"X*x[0]\", X=1)\n"
       ]
      },
      {
       "output_type": "stream",
       "stream": "stdout",
       "text": [
        "x Fail X Pass\n",
        "Expression(\"y*x[0]\", y=1)"
       ]
      },
      {
       "output_type": "stream",
       "stream": "stdout",
       "text": [
        " Expression(\"Y*x[0]\", Y=1)\n"
       ]
      },
      {
       "output_type": "stream",
       "stream": "stdout",
       "text": [
        "y Pass Y Pass\n",
        "Expression(\"z*x[0]\", z=1)"
       ]
      },
      {
       "output_type": "stream",
       "stream": "stdout",
       "text": [
        " Expression(\"Z*x[0]\", Z=1)\n"
       ]
      },
      {
       "output_type": "stream",
       "stream": "stdout",
       "text": [
        "z Pass Z Pass\n"
       ]
      }
     ],
     "prompt_number": 50
    },
    {
     "cell_type": "code",
     "collapsed": false,
     "input": [],
     "language": "python",
     "metadata": {},
     "outputs": []
    }
   ],
   "metadata": {}
  }
 ]
}