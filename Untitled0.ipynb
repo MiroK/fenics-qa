{
 "metadata": {
  "name": "",
  "signature": "sha256:fa5c12a18e2ecc4a1469349399a90eb47fdd73bdb013761006efdb96dd7e52dc"
 },
 "nbformat": 3,
 "nbformat_minor": 0,
 "worksheets": [
  {
   "cells": [
    {
     "cell_type": "code",
     "collapsed": false,
     "input": [
      "from dolfin import Expression\n",
      "import string\n",
      "UPPER = string.ascii_uppercase\n",
      "lower = string.ascii_lowercase\n",
      "\n",
      "for l, L in zip(lower, UPPER):\n",
      "    try:\n",
      "        foo = '''\"{foo}*x[0]\", {foo}=1'''.format(foo=l)\n",
      "        bar = 'Expression({bar})'.format(bar=foo)\n",
      "        print bar,\n",
      "        exec(bar)\n",
      "    except:\n",
      "        l_status = 'Fail'\n",
      "    else:\n",
      "        l_status = 'Pass'\n",
      "        \n",
      "    try:\n",
      "        foo = '''\"{foo}*x[0]\", {foo}=1'''.format(foo=L)\n",
      "        bar = 'Expression({bar})'.format(bar=foo)\n",
      "        print bar\n",
      "        exec(bar)\n",
      "    except:\n",
      "        L_status = 'Fail'\n",
      "    else:\n",
      "        L_status = 'Pass'\n",
      "        \n",
      "    print l, l_status, L, L_status"
     ],
     "language": "python",
     "metadata": {},
     "outputs": [
      {
       "output_type": "stream",
       "stream": "stdout",
       "text": [
        "Expression(\"a*x[0]\", a=1) Expression(\"A*x[0]\", A=1)\n"
       ]
      },
      {
       "output_type": "stream",
       "stream": "stdout",
       "text": [
        "a Pass A Pass\n",
        "Expression(\"b*x[0]\", b=1)"
       ]
      },
      {
       "output_type": "stream",
       "stream": "stdout",
       "text": [
        " Expression(\"B*x[0]\", B=1)\n"
       ]
      },
      {
       "output_type": "stream",
       "stream": "stdout",
       "text": [
        "b Pass B Pass\n",
        "Expression(\"c*x[0]\", c=1)"
       ]
      },
      {
       "output_type": "stream",
       "stream": "stdout",
       "text": [
        " Expression(\"C*x[0]\", C=1)\n"
       ]
      },
      {
       "output_type": "stream",
       "stream": "stdout",
       "text": [
        "c Pass C Pass\n",
        "Expression(\"d*x[0]\", d=1)"
       ]
      },
      {
       "output_type": "stream",
       "stream": "stdout",
       "text": [
        " Expression(\"D*x[0]\", D=1)\n"
       ]
      },
      {
       "output_type": "stream",
       "stream": "stdout",
       "text": [
        "d Pass D Pass\n",
        "Expression(\"e*x[0]\", e=1)"
       ]
      },
      {
       "output_type": "stream",
       "stream": "stderr",
       "text": [
        "In instant.recompile: The module did not compile with command 'make VERBOSE=1', see '/home/miro3/.instant/error/dolfin_compile_code_eb086dde431fbe6b86b1972d4c2234e7/compile.log'\n"
       ]
      },
      {
       "output_type": "stream",
       "stream": "stderr",
       "text": [
        "ERROR:instant:In instant.recompile: The module did not compile with command 'make VERBOSE=1', see '/home/miro3/.instant/error/dolfin_compile_code_eb086dde431fbe6b86b1972d4c2234e7/compile.log'\n"
       ]
      },
      {
       "output_type": "stream",
       "stream": "stdout",
       "text": [
        " Expression(\"E*x[0]\", E=1)\n"
       ]
      },
      {
       "output_type": "stream",
       "stream": "stdout",
       "text": [
        "e Fail E Pass\n",
        "Expression(\"f*x[0]\", f=1)"
       ]
      },
      {
       "output_type": "stream",
       "stream": "stdout",
       "text": [
        " Expression(\"F*x[0]\", F=1)\n"
       ]
      },
      {
       "output_type": "stream",
       "stream": "stdout",
       "text": [
        "f Pass F Pass\n",
        "Expression(\"g*x[0]\", g=1)"
       ]
      },
      {
       "output_type": "stream",
       "stream": "stdout",
       "text": [
        " Expression(\"G*x[0]\", G=1)\n"
       ]
      },
      {
       "output_type": "stream",
       "stream": "stdout",
       "text": [
        "g Pass G Pass\n",
        "Expression(\"h*x[0]\", h=1)"
       ]
      },
      {
       "output_type": "stream",
       "stream": "stdout",
       "text": [
        " Expression(\"H*x[0]\", H=1)\n"
       ]
      },
      {
       "output_type": "stream",
       "stream": "stdout",
       "text": [
        "h Pass H Pass\n",
        "Expression(\"i*x[0]\", i=1)"
       ]
      },
      {
       "output_type": "stream",
       "stream": "stdout",
       "text": [
        " Expression(\"I*x[0]\", I=1)\n"
       ]
      },
      {
       "output_type": "stream",
       "stream": "stdout",
       "text": [
        "i Pass I Pass\n",
        "Expression(\"j*x[0]\", j=1)"
       ]
      },
      {
       "output_type": "stream",
       "stream": "stdout",
       "text": [
        " Expression(\"J*x[0]\", J=1)\n"
       ]
      },
      {
       "output_type": "stream",
       "stream": "stdout",
       "text": [
        "j Pass J Pass\n",
        "Expression(\"k*x[0]\", k=1)"
       ]
      },
      {
       "output_type": "stream",
       "stream": "stdout",
       "text": [
        " Expression(\"K*x[0]\", K=1)\n"
       ]
      },
      {
       "output_type": "stream",
       "stream": "stdout",
       "text": [
        "k Pass K Pass\n",
        "Expression(\"l*x[0]\", l=1)"
       ]
      },
      {
       "output_type": "stream",
       "stream": "stdout",
       "text": [
        " Expression(\"L*x[0]\", L=1)\n"
       ]
      },
      {
       "output_type": "stream",
       "stream": "stdout",
       "text": [
        "l Pass L Pass\n",
        "Expression(\"m*x[0]\", m=1)"
       ]
      },
      {
       "output_type": "stream",
       "stream": "stdout",
       "text": [
        " Expression(\"M*x[0]\", M=1)\n"
       ]
      },
      {
       "output_type": "stream",
       "stream": "stdout",
       "text": [
        "m Pass M Pass\n",
        "Expression(\"n*x[0]\", n=1)"
       ]
      },
      {
       "output_type": "stream",
       "stream": "stdout",
       "text": [
        " Expression(\"N*x[0]\", N=1)\n"
       ]
      },
      {
       "output_type": "stream",
       "stream": "stdout",
       "text": [
        "n Pass N Pass\n",
        "Expression(\"o*x[0]\", o=1)"
       ]
      },
      {
       "output_type": "stream",
       "stream": "stdout",
       "text": [
        " Expression(\"O*x[0]\", O=1)\n"
       ]
      },
      {
       "output_type": "stream",
       "stream": "stdout",
       "text": [
        "o Pass O Pass\n",
        "Expression(\"p*x[0]\", p=1)"
       ]
      },
      {
       "output_type": "stream",
       "stream": "stdout",
       "text": [
        " Expression(\"P*x[0]\", P=1)\n"
       ]
      },
      {
       "output_type": "stream",
       "stream": "stdout",
       "text": [
        "p Pass P Pass\n",
        "Expression(\"q*x[0]\", q=1)"
       ]
      },
      {
       "output_type": "stream",
       "stream": "stdout",
       "text": [
        " Expression(\"Q*x[0]\", Q=1)\n"
       ]
      },
      {
       "output_type": "stream",
       "stream": "stdout",
       "text": [
        "q Pass Q Pass\n",
        "Expression(\"r*x[0]\", r=1) Expression(\"R*x[0]\", R=1)\n"
       ]
      },
      {
       "output_type": "stream",
       "stream": "stdout",
       "text": [
        "r Pass R Pass\n",
        "Expression(\"s*x[0]\", s=1) Expression(\"S*x[0]\", S=1)\n",
        "s Pass S Pass\n",
        "Expression(\"t*x[0]\", t=1)"
       ]
      },
      {
       "output_type": "stream",
       "stream": "stdout",
       "text": [
        " Expression(\"T*x[0]\", T=1)\n",
        "t Pass T Fail\n",
        "Expression(\"u*x[0]\", u=1)"
       ]
      },
      {
       "output_type": "stream",
       "stream": "stdout",
       "text": [
        " Expression(\"U*x[0]\", U=1)\n"
       ]
      },
      {
       "output_type": "stream",
       "stream": "stdout",
       "text": [
        "u Pass U Pass\n",
        "Expression(\"v*x[0]\", v=1)"
       ]
      },
      {
       "output_type": "stream",
       "stream": "stdout",
       "text": [
        " Expression(\"V*x[0]\", V=1)\n",
        "v Pass V Pass\n",
        "Expression(\"w*x[0]\", w=1)"
       ]
      },
      {
       "output_type": "stream",
       "stream": "stdout",
       "text": [
        " Expression(\"W*x[0]\", W=1)\n"
       ]
      },
      {
       "output_type": "stream",
       "stream": "stdout",
       "text": [
        "w Pass W Pass\n",
        "Expression(\"x*x[0]\", x=1)"
       ]
      },
      {
       "output_type": "stream",
       "stream": "stderr",
       "text": [
        "In instant.recompile: The module did not compile with command 'make VERBOSE=1', see '/home/miro3/.instant/error/dolfin_compile_code_c6768ef35577168ff2ad328976de3592/compile.log'\n"
       ]
      },
      {
       "output_type": "stream",
       "stream": "stderr",
       "text": [
        "ERROR:instant:In instant.recompile: The module did not compile with command 'make VERBOSE=1', see '/home/miro3/.instant/error/dolfin_compile_code_c6768ef35577168ff2ad328976de3592/compile.log'\n"
       ]
      },
      {
       "output_type": "stream",
       "stream": "stdout",
       "text": [
        " Expression(\"X*x[0]\", X=1)\n"
       ]
      },
      {
       "output_type": "stream",
       "stream": "stdout",
       "text": [
        "x Fail X Pass\n",
        "Expression(\"y*x[0]\", y=1)"
       ]
      },
      {
       "output_type": "stream",
       "stream": "stdout",
       "text": [
        " Expression(\"Y*x[0]\", Y=1)\n"
       ]
      },
      {
       "output_type": "stream",
       "stream": "stdout",
       "text": [
        "y Pass Y Pass\n",
        "Expression(\"z*x[0]\", z=1)"
       ]
      },
      {
       "output_type": "stream",
       "stream": "stdout",
       "text": [
        " Expression(\"Z*x[0]\", Z=1)\n"
       ]
      },
      {
       "output_type": "stream",
       "stream": "stdout",
       "text": [
        "z Pass Z Pass\n"
       ]
      }
     ],
     "prompt_number": 50
    },
    {
     "cell_type": "code",
     "collapsed": false,
     "input": [
      "Expression('e+x[0]', e=1)"
     ],
     "language": "python",
     "metadata": {},
     "outputs": [
      {
       "output_type": "stream",
       "stream": "stderr",
       "text": [
        "In instant.recompile: The module did not compile with command 'make VERBOSE=1', see '/home/miro3/.instant/error/dolfin_compile_code_b446f65e14a2251ac4785b07bc4affc0/compile.log'\n"
       ]
      },
      {
       "output_type": "stream",
       "stream": "stderr",
       "text": [
        "ERROR:instant:In instant.recompile: The module did not compile with command 'make VERBOSE=1', see '/home/miro3/.instant/error/dolfin_compile_code_b446f65e14a2251ac4785b07bc4affc0/compile.log'\n"
       ]
      },
      {
       "ename": "RuntimeError",
       "evalue": "In instant.recompile: The module did not compile with command 'make VERBOSE=1', see '/home/miro3/.instant/error/dolfin_compile_code_b446f65e14a2251ac4785b07bc4affc0/compile.log'",
       "output_type": "pyerr",
       "traceback": [
        "\u001b[1;31m---------------------------------------------------------------------------\u001b[0m\n\u001b[1;31mRuntimeError\u001b[0m                              Traceback (most recent call last)",
        "\u001b[1;32m<ipython-input-51-2596b08d34d9>\u001b[0m in \u001b[0;36m<module>\u001b[1;34m()\u001b[0m\n\u001b[1;32m----> 1\u001b[1;33m \u001b[0mExpression\u001b[0m\u001b[1;33m(\u001b[0m\u001b[1;34m'e+x[0]'\u001b[0m\u001b[1;33m,\u001b[0m \u001b[0me\u001b[0m\u001b[1;33m=\u001b[0m\u001b[1;36m1\u001b[0m\u001b[1;33m)\u001b[0m\u001b[1;33m\u001b[0m\u001b[0m\n\u001b[0m",
        "\u001b[1;32m/home/miro3/Documents/Programming/FEniCS/stab/dolfin/lib/python2.7/site-packages/dolfin/functions/expression.pyc\u001b[0m in \u001b[0;36m__new__\u001b[1;34m(cls, cppcode, element, cell, degree, name, label, **kwargs)\u001b[0m\n\u001b[0;32m    580\u001b[0m         \u001b[1;31m# Compile module and get the cpp.Expression class\u001b[0m\u001b[1;33m\u001b[0m\u001b[1;33m\u001b[0m\u001b[0m\n\u001b[0;32m    581\u001b[0m         cpp_base, members = compile_expressions([cppcode],\n\u001b[1;32m--> 582\u001b[1;33m                                                 [generic_function_members])\n\u001b[0m\u001b[0;32m    583\u001b[0m         \u001b[0mcpp_base\u001b[0m\u001b[1;33m,\u001b[0m \u001b[0mmembers\u001b[0m \u001b[1;33m=\u001b[0m \u001b[0mcpp_base\u001b[0m\u001b[1;33m[\u001b[0m\u001b[1;36m0\u001b[0m\u001b[1;33m]\u001b[0m\u001b[1;33m,\u001b[0m \u001b[0mmembers\u001b[0m\u001b[1;33m[\u001b[0m\u001b[1;36m0\u001b[0m\u001b[1;33m]\u001b[0m\u001b[1;33m\u001b[0m\u001b[0m\n\u001b[0;32m    584\u001b[0m \u001b[1;33m\u001b[0m\u001b[0m\n",
        "\u001b[1;32m/home/miro3/Documents/Programming/FEniCS/stab/dolfin/lib/python2.7/site-packages/dolfin/compilemodules/expressions.pyc\u001b[0m in \u001b[0;36mcompile_expressions\u001b[1;34m(cppargs, generic_function_members)\u001b[0m\n\u001b[0;32m    215\u001b[0m     expression_classes = compile_expression_code(\"\\n\\n\".join(\\\n\u001b[0;32m    216\u001b[0m         \u001b[0mcode_snippets\u001b[0m\u001b[1;33m)\u001b[0m\u001b[1;33m,\u001b[0m \u001b[0mclassnames\u001b[0m\u001b[1;33m,\u001b[0m \u001b[0madditional_declarations\u001b[0m\u001b[1;33m=\u001b[0m\u001b[1;34m\"\\n\"\u001b[0m\u001b[1;33m.\u001b[0m\u001b[0mjoin\u001b[0m\u001b[1;33m(\u001b[0m\u001b[0;31m\\\u001b[0m\u001b[1;33m\u001b[0m\u001b[0m\n\u001b[1;32m--> 217\u001b[1;33m                                                      additional_declarations))\n\u001b[0m\u001b[0;32m    218\u001b[0m \u001b[1;33m\u001b[0m\u001b[0m\n\u001b[0;32m    219\u001b[0m     \u001b[1;32mreturn\u001b[0m \u001b[0mexpression_classes\u001b[0m\u001b[1;33m,\u001b[0m \u001b[0mall_members\u001b[0m\u001b[1;33m\u001b[0m\u001b[0m\n",
        "\u001b[1;32m/home/miro3/Documents/Programming/FEniCS/stab/dolfin/lib/python2.7/site-packages/dolfin/compilemodules/expressions.pyc\u001b[0m in \u001b[0;36mcompile_expression_code\u001b[1;34m(code, classnames, module_name, additional_declarations)\u001b[0m\n\u001b[0;32m    140\u001b[0m     \u001b[1;31m# Compile the extension module\u001b[0m\u001b[1;33m\u001b[0m\u001b[1;33m\u001b[0m\u001b[0m\n\u001b[0;32m    141\u001b[0m     compiled_module = compile_extension_module(\\\n\u001b[1;32m--> 142\u001b[1;33m         code, additional_declarations=additional_declarations)\n\u001b[0m\u001b[0;32m    143\u001b[0m \u001b[1;33m\u001b[0m\u001b[0m\n\u001b[0;32m    144\u001b[0m     \u001b[1;31m# Get the compiled class\u001b[0m\u001b[1;33m\u001b[0m\u001b[1;33m\u001b[0m\u001b[0m\n",
        "\u001b[1;32m/home/miro3/Documents/Programming/FEniCS/stab/dolfin/lib/python2.7/site-packages/dolfin/compilemodules/jit.pyc\u001b[0m in \u001b[0;36mmpi_jit\u001b[1;34m(*args, **kwargs)\u001b[0m\n\u001b[0;32m     58\u001b[0m         \u001b[1;31m# Just call JIT compiler when running in serial\u001b[0m\u001b[1;33m\u001b[0m\u001b[1;33m\u001b[0m\u001b[0m\n\u001b[0;32m     59\u001b[0m         \u001b[1;32mif\u001b[0m \u001b[0mMPI\u001b[0m\u001b[1;33m.\u001b[0m\u001b[0mnum_processes\u001b[0m\u001b[1;33m(\u001b[0m\u001b[1;33m)\u001b[0m \u001b[1;33m==\u001b[0m \u001b[1;36m1\u001b[0m\u001b[1;33m:\u001b[0m\u001b[1;33m\u001b[0m\u001b[0m\n\u001b[1;32m---> 60\u001b[1;33m             \u001b[1;32mreturn\u001b[0m \u001b[0mlocal_jit\u001b[0m\u001b[1;33m(\u001b[0m\u001b[1;33m*\u001b[0m\u001b[0margs\u001b[0m\u001b[1;33m,\u001b[0m \u001b[1;33m**\u001b[0m\u001b[0mkwargs\u001b[0m\u001b[1;33m)\u001b[0m\u001b[1;33m\u001b[0m\u001b[0m\n\u001b[0m\u001b[0;32m     61\u001b[0m \u001b[1;33m\u001b[0m\u001b[0m\n\u001b[0;32m     62\u001b[0m         \u001b[1;31m# Compile first on process 0\u001b[0m\u001b[1;33m\u001b[0m\u001b[1;33m\u001b[0m\u001b[0m\n",
        "\u001b[1;32m/home/miro3/Documents/Programming/FEniCS/stab/dolfin/lib/python2.7/site-packages/dolfin/compilemodules/compilemodule.pyc\u001b[0m in \u001b[0;36mcompile_extension_module\u001b[1;34m(code, module_name, additional_declarations, additional_system_headers, **instant_kwargs)\u001b[0m\n\u001b[0;32m    446\u001b[0m         \u001b[0mcode\u001b[0m              \u001b[1;33m=\u001b[0m \u001b[0mcode\u001b[0m\u001b[1;33m,\u001b[0m\u001b[1;33m\u001b[0m\u001b[0m\n\u001b[0;32m    447\u001b[0m         \u001b[0madditional_declarations\u001b[0m \u001b[1;33m=\u001b[0m \u001b[0m_additional_declarations\u001b[0m \u001b[1;33m%\u001b[0m \u001b[0mdeclaration_strs\u001b[0m\u001b[1;33m,\u001b[0m\u001b[1;33m\u001b[0m\u001b[0m\n\u001b[1;32m--> 448\u001b[1;33m         **instant_kwargs)\n\u001b[0m\u001b[0;32m    449\u001b[0m \u001b[1;33m\u001b[0m\u001b[0m\n\u001b[0;32m    450\u001b[0m     \u001b[0msys\u001b[0m\u001b[1;33m.\u001b[0m\u001b[0mstdout\u001b[0m\u001b[1;33m.\u001b[0m\u001b[0mflush\u001b[0m\u001b[1;33m(\u001b[0m\u001b[1;33m)\u001b[0m\u001b[1;33m\u001b[0m\u001b[0m\n",
        "\u001b[1;32m/home/miro3/Documents/Programming/FEniCS/stab/form/lib/python2.7/site-packages/instant/build.pyc\u001b[0m in \u001b[0;36mbuild_module\u001b[1;34m(modulename, source_directory, code, init_code, additional_definitions, additional_declarations, sources, wrap_headers, local_headers, system_headers, include_dirs, library_dirs, libraries, swigargs, swig_include_dirs, cppargs, lddargs, object_files, arrays, generate_interface, generate_setup, cmake_packages, signature, cache_dir)\u001b[0m\n\u001b[0;32m    540\u001b[0m \u001b[1;33m\u001b[0m\u001b[0m\n\u001b[0;32m    541\u001b[0m         \u001b[1;31m# Recompile if necessary\u001b[0m\u001b[1;33m\u001b[0m\u001b[1;33m\u001b[0m\u001b[0m\n\u001b[1;32m--> 542\u001b[1;33m         \u001b[0mrecompile\u001b[0m\u001b[1;33m(\u001b[0m\u001b[0mmodulename\u001b[0m\u001b[1;33m,\u001b[0m \u001b[0mmodule_path\u001b[0m\u001b[1;33m,\u001b[0m \u001b[0mnew_compilation_checksum\u001b[0m\u001b[1;33m,\u001b[0m \u001b[0mbuild_system\u001b[0m\u001b[1;33m)\u001b[0m\u001b[1;33m\u001b[0m\u001b[0m\n\u001b[0m\u001b[0;32m    543\u001b[0m \u001b[1;33m\u001b[0m\u001b[0m\n\u001b[0;32m    544\u001b[0m         \u001b[1;31m# --- Load, cache, and return module\u001b[0m\u001b[1;33m\u001b[0m\u001b[1;33m\u001b[0m\u001b[0m\n",
        "\u001b[1;32m/home/miro3/Documents/Programming/FEniCS/stab/form/lib/python2.7/site-packages/instant/build.pyc\u001b[0m in \u001b[0;36mrecompile\u001b[1;34m(modulename, module_path, new_compilation_checksum, build_system)\u001b[0m\n\u001b[0;32m    149\u001b[0m                     \u001b[0mos\u001b[0m\u001b[1;33m.\u001b[0m\u001b[0mremove\u001b[0m\u001b[1;33m(\u001b[0m\u001b[0mcompilation_checksum_filename\u001b[0m\u001b[1;33m)\u001b[0m\u001b[1;33m\u001b[0m\u001b[0m\n\u001b[0;32m    150\u001b[0m                 \u001b[0mmsg\u001b[0m \u001b[1;33m=\u001b[0m \u001b[1;34m\"In instant.recompile: The module did not compile with command '%s', see '%s'\"\u001b[0m\u001b[1;33m\u001b[0m\u001b[0m\n\u001b[1;32m--> 151\u001b[1;33m                 \u001b[0minstant_error\u001b[0m\u001b[1;33m(\u001b[0m\u001b[0mmsg\u001b[0m \u001b[1;33m%\u001b[0m \u001b[1;33m(\u001b[0m\u001b[0mcmd\u001b[0m\u001b[1;33m,\u001b[0m \u001b[0mcompile_log_filename_dest\u001b[0m\u001b[1;33m)\u001b[0m\u001b[1;33m)\u001b[0m\u001b[1;33m\u001b[0m\u001b[0m\n\u001b[0m\u001b[0;32m    152\u001b[0m \u001b[1;33m\u001b[0m\u001b[0m\n\u001b[0;32m    153\u001b[0m     \u001b[1;32mfinally\u001b[0m\u001b[1;33m:\u001b[0m\u001b[1;33m\u001b[0m\u001b[0m\n",
        "\u001b[1;32m/home/miro3/Documents/Programming/FEniCS/stab/form/lib/python2.7/site-packages/instant/output.pyc\u001b[0m in \u001b[0;36minstant_error\u001b[1;34m(*message)\u001b[0m\n\u001b[0;32m     55\u001b[0m     \u001b[0m_log\u001b[0m\u001b[1;33m.\u001b[0m\u001b[0merror\u001b[0m\u001b[1;33m(\u001b[0m\u001b[1;33m*\u001b[0m\u001b[0mmessage\u001b[0m\u001b[1;33m)\u001b[0m\u001b[1;33m\u001b[0m\u001b[0m\n\u001b[0;32m     56\u001b[0m     \u001b[0mtext\u001b[0m \u001b[1;33m=\u001b[0m \u001b[0mmessage\u001b[0m\u001b[1;33m[\u001b[0m\u001b[1;36m0\u001b[0m\u001b[1;33m]\u001b[0m \u001b[1;33m%\u001b[0m \u001b[0mmessage\u001b[0m\u001b[1;33m[\u001b[0m\u001b[1;36m1\u001b[0m\u001b[1;33m:\u001b[0m\u001b[1;33m]\u001b[0m\u001b[1;33m\u001b[0m\u001b[0m\n\u001b[1;32m---> 57\u001b[1;33m     \u001b[1;32mraise\u001b[0m \u001b[0mRuntimeError\u001b[0m\u001b[1;33m(\u001b[0m\u001b[0mtext\u001b[0m\u001b[1;33m)\u001b[0m\u001b[1;33m\u001b[0m\u001b[0m\n\u001b[0m\u001b[0;32m     58\u001b[0m \u001b[1;33m\u001b[0m\u001b[0m\n\u001b[0;32m     59\u001b[0m \u001b[1;32mdef\u001b[0m \u001b[0minstant_assert\u001b[0m\u001b[1;33m(\u001b[0m\u001b[0mcondition\u001b[0m\u001b[1;33m,\u001b[0m \u001b[1;33m*\u001b[0m\u001b[0mmessage\u001b[0m\u001b[1;33m)\u001b[0m\u001b[1;33m:\u001b[0m\u001b[1;33m\u001b[0m\u001b[0m\n",
        "\u001b[1;31mRuntimeError\u001b[0m: In instant.recompile: The module did not compile with command 'make VERBOSE=1', see '/home/miro3/.instant/error/dolfin_compile_code_b446f65e14a2251ac4785b07bc4affc0/compile.log'"
       ]
      }
     ],
     "prompt_number": 51
    },
    {
     "cell_type": "code",
     "collapsed": false,
     "input": [],
     "language": "python",
     "metadata": {},
     "outputs": []
    }
   ],
   "metadata": {}
  }
 ]
}